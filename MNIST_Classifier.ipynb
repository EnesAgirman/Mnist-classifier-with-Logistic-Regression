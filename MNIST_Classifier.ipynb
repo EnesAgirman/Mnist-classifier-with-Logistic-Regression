{
 "cells": [
  {
   "cell_type": "code",
   "execution_count": 7,
   "metadata": {},
   "outputs": [],
   "source": [
    "import cv2 as cv\n",
    "import numpy as np\n",
    "import matplotlib.pyplot as plt\n",
    "import q2_script"
   ]
  },
  {
   "cell_type": "code",
   "execution_count": 8,
   "metadata": {},
   "outputs": [],
   "source": [
    "x_train, y_train, x_test, y_test = q2_script.read_dataset()\n",
    "\n",
    "x_val = x_train[0:10000]\n",
    "y_val = y_train[0:10000]\n",
    "\n",
    "x_train = x_train[10000:]\n",
    "y_train = y_train[10000:]"
   ]
  },
  {
   "cell_type": "code",
   "execution_count": 9,
   "metadata": {},
   "outputs": [
    {
     "name": "stdout",
     "output_type": "stream",
     "text": [
      "x_train shape: (50000, 784)\n",
      "y_train shape: (50000, 10)\n",
      "x_val shape: (10000, 784)\n",
      "y_val shape: (10000, 10)\n",
      "x_test shape: (10000, 784)\n",
      "y_test shape: (10000, 10)\n"
     ]
    }
   ],
   "source": [
    "print(f\"x_train shape: {x_train.shape}\")\n",
    "print(f\"y_train shape: {y_train.shape}\")\n",
    "print(f\"x_val shape: {x_val.shape}\")\n",
    "print(f\"y_val shape: {y_val.shape}\")\n",
    "print(f\"x_test shape: {x_test.shape}\")\n",
    "print(f\"y_test shape: {y_test.shape}\")"
   ]
  },
  {
   "cell_type": "code",
   "execution_count": 10,
   "metadata": {},
   "outputs": [],
   "source": [
    "# logistic regression model\n",
    "\n",
    "class LogisticRegression:\n",
    "    def __init__(self, x_train, y_train, x_val, y_val, x_test, y_test, weight_initilisation):\n",
    "        self.x_train = x_train\n",
    "        self.y_train = y_train\n",
    "        self.x_val = x_val\n",
    "        self.y_val = y_val\n",
    "        self.x_test = x_test\n",
    "        self.y_test = y_test\n",
    "        self.weights = self.initialize_weights(weight_initilisation)\n",
    "    \n",
    "    def initialize_weights(self, weight_initilisation):\n",
    "        if weight_initilisation == \"normal\" or weight_initilisation == \"gaussian\":\n",
    "            # normal distribution with mean 0 and variance 1\n",
    "            self.weights = np.random.normal(loc=0.0, scale=1.0, size=(10, 784))\n",
    "        elif weight_initilisation == \"zeros\":\n",
    "            self.weights = np.zeros((10, 784))\n",
    "        elif weight_initilisation == \"uniform\":\n",
    "            self.weights = np.random.uniform(low=-1, high=1, size=(10, 784))\n",
    "        else:\n",
    "            raise Exception(\"Invalid weight initilisation method, choose from: \\\"normal\\\", \\\"zeros\\\" or \\\"uniform\\\"\")\n",
    "        return self.weights\n",
    "    \n",
    "    def softmax(self, z):\n",
    "        # z is a vector of shape (10, 1)\n",
    "        return np.exp(z) / np.sum(np.exp(z), axis=0)\n",
    "    \n",
    "    \n",
    "    def forward(self, x):\n",
    "        # x is a vector of shape (784, 1)\n",
    "        # weights is a matrix of shape (10, 784)\n",
    "        # z is a vector of shape (10, 1)\n",
    "        z = np.matmul(self.weights, x)\n",
    "        return self.softmax(z)\n",
    "    \n",
    "    def train(self, epochs, lr, batch_size, L2_regularisation_coeff):\n",
    "        # epochs: number of iterations\n",
    "        # lr: learning rate\n",
    "        # batch_size: size of mini-batch\n",
    "        # L2_regularisation_coeff: lambda\n",
    "        for epoch in range(epochs):\n",
    "            print(f\"Epoch {epoch + 1} of {epochs}\")\n",
    "            for i in range(0, len(self.x_train), batch_size):\n",
    "                x_batch = self.x_train[i:i + batch_size]\n",
    "                y_batch = self.y_train[i:i + batch_size]\n",
    "                self.update_weights(x_batch, y_batch, lr, L2_regularisation_coeff)\n",
    "            self.evaluate()\n",
    "    \n",
    "    # I was here    \n",
    "    def update_weights(self, x_batch, y_batch, lr, L2_regularisation_coeff):\n",
    "        # x_batch is a matrix of shape (batch_size, 784)\n",
    "        # y_batch is a matrix of shape (batch_size, 10)\n",
    "        # weights is a matrix of shape (10, 784)\n",
    "        # y_pred is a matrix of shape (batch_size, 10)\n",
    "        # y_batch is a matrix of shape (batch_size, 10)\n",
    "        # x_batch.T is a matrix of shape (784, batch_size)\n",
    "        # grad is a matrix of shape (10, 784)\n",
    "        # L2_regularisation_coeff is a scalar\n",
    "        y_pred = self.forward(x_batch.T)\n",
    "        grad = np.matmul((y_pred - y_batch.T), x_batch) / len(x_batch) + L2_regularisation_coeff * self.weights\n",
    "        self.weights -= lr * grad.T\n",
    "    \n",
    "    def evaluate(self):\n",
    "        # x_val is a matrix of shape (10000, 784)\n",
    "        # y_val is a matrix of shape (10000, 10)\n",
    "        # weights is a matrix of shape (10, 784)\n",
    "        # y_pred is a matrix of shape (10000, 10)\n",
    "        # y_val is a matrix of shape (10000, 10)\n",
    "        # correct is a scalar\n",
    "        y_pred = self.forward(self.x_val.T)\n",
    "        correct = np.sum(np.argmax(y_pred, axis=0) == np.argmax(self.y_val, axis=1))\n",
    "        print(f\"Validation accuracy: {correct / len(self.x_val)}\")\n",
    "    \n",
    "    def test(self):\n",
    "        # x_test is a matrix of shape (10000, 784)\n",
    "        # y_test is a matrix of shape (10000, 10)\n",
    "        # weights is a matrix of shape (10, 784)\n",
    "        # y_pred is a matrix of shape (10000, 10)\n",
    "        # y_test is a matrix of shape (10000, 10)\n",
    "        # correct is a scalar\n",
    "        y_pred = self.forward(self.x_test.T)\n",
    "        correct = np.sum(np.argmax(y_pred, axis=0) == np.argmax(self.y_test, axis=1))\n",
    "        print(f\"Test accuracy: {correct / len(self.x_test)}\")\n",
    "\n",
    "        "
   ]
  },
  {
   "cell_type": "code",
   "execution_count": 12,
   "metadata": {},
   "outputs": [
    {
     "name": "stdout",
     "output_type": "stream",
     "text": [
      "Epoch 1 of 100\n"
     ]
    },
    {
     "name": "stderr",
     "output_type": "stream",
     "text": [
      "C:\\Users\\NSagi\\AppData\\Local\\Temp\\ipykernel_12572\\3816643186.py:27: RuntimeWarning: overflow encountered in exp\n",
      "  return np.exp(z) / np.sum(np.exp(z), axis=0)\n",
      "C:\\Users\\NSagi\\AppData\\Local\\Temp\\ipykernel_12572\\3816643186.py:27: RuntimeWarning: invalid value encountered in divide\n",
      "  return np.exp(z) / np.sum(np.exp(z), axis=0)\n"
     ]
    },
    {
     "ename": "ValueError",
     "evalue": "operands could not be broadcast together with shapes (10,784) (784,10) (10,784) ",
     "output_type": "error",
     "traceback": [
      "\u001b[1;31m---------------------------------------------------------------------------\u001b[0m",
      "\u001b[1;31mValueError\u001b[0m                                Traceback (most recent call last)",
      "Cell \u001b[1;32mIn[12], line 2\u001b[0m\n\u001b[0;32m      1\u001b[0m logistic_regression \u001b[38;5;241m=\u001b[39m LogisticRegression(x_train, y_train, x_val, y_val, x_test, y_test, \u001b[38;5;124m\"\u001b[39m\u001b[38;5;124mnormal\u001b[39m\u001b[38;5;124m\"\u001b[39m)\n\u001b[1;32m----> 2\u001b[0m \u001b[43mlogistic_regression\u001b[49m\u001b[38;5;241;43m.\u001b[39;49m\u001b[43mtrain\u001b[49m\u001b[43m(\u001b[49m\u001b[43mepochs\u001b[49m\u001b[38;5;241;43m=\u001b[39;49m\u001b[38;5;241;43m100\u001b[39;49m\u001b[43m,\u001b[49m\u001b[43m \u001b[49m\u001b[43mlr\u001b[49m\u001b[38;5;241;43m=\u001b[39;49m\u001b[38;5;241;43m0.0005\u001b[39;49m\u001b[43m,\u001b[49m\u001b[43m \u001b[49m\u001b[43mbatch_size\u001b[49m\u001b[38;5;241;43m=\u001b[39;49m\u001b[38;5;241;43m200\u001b[39;49m\u001b[43m,\u001b[49m\u001b[43m \u001b[49m\u001b[43mL2_regularisation_coeff\u001b[49m\u001b[38;5;241;43m=\u001b[39;49m\u001b[38;5;241;43m0.0001\u001b[39;49m\u001b[43m)\u001b[49m\n",
      "Cell \u001b[1;32mIn[10], line 47\u001b[0m, in \u001b[0;36mLogisticRegression.train\u001b[1;34m(self, epochs, lr, batch_size, L2_regularisation_coeff)\u001b[0m\n\u001b[0;32m     45\u001b[0m     x_batch \u001b[38;5;241m=\u001b[39m \u001b[38;5;28mself\u001b[39m\u001b[38;5;241m.\u001b[39mx_train[i:i \u001b[38;5;241m+\u001b[39m batch_size]\n\u001b[0;32m     46\u001b[0m     y_batch \u001b[38;5;241m=\u001b[39m \u001b[38;5;28mself\u001b[39m\u001b[38;5;241m.\u001b[39my_train[i:i \u001b[38;5;241m+\u001b[39m batch_size]\n\u001b[1;32m---> 47\u001b[0m     \u001b[38;5;28;43mself\u001b[39;49m\u001b[38;5;241;43m.\u001b[39;49m\u001b[43mupdate_weights\u001b[49m\u001b[43m(\u001b[49m\u001b[43mx_batch\u001b[49m\u001b[43m,\u001b[49m\u001b[43m \u001b[49m\u001b[43my_batch\u001b[49m\u001b[43m,\u001b[49m\u001b[43m \u001b[49m\u001b[43mlr\u001b[49m\u001b[43m,\u001b[49m\u001b[43m \u001b[49m\u001b[43mL2_regularisation_coeff\u001b[49m\u001b[43m)\u001b[49m\n\u001b[0;32m     48\u001b[0m \u001b[38;5;28mself\u001b[39m\u001b[38;5;241m.\u001b[39mevaluate()\n",
      "Cell \u001b[1;32mIn[10], line 61\u001b[0m, in \u001b[0;36mLogisticRegression.update_weights\u001b[1;34m(self, x_batch, y_batch, lr, L2_regularisation_coeff)\u001b[0m\n\u001b[0;32m     59\u001b[0m y_pred \u001b[38;5;241m=\u001b[39m \u001b[38;5;28mself\u001b[39m\u001b[38;5;241m.\u001b[39mforward(x_batch\u001b[38;5;241m.\u001b[39mT)\n\u001b[0;32m     60\u001b[0m grad \u001b[38;5;241m=\u001b[39m np\u001b[38;5;241m.\u001b[39mmatmul((y_pred \u001b[38;5;241m-\u001b[39m y_batch\u001b[38;5;241m.\u001b[39mT), x_batch) \u001b[38;5;241m/\u001b[39m \u001b[38;5;28mlen\u001b[39m(x_batch) \u001b[38;5;241m+\u001b[39m L2_regularisation_coeff \u001b[38;5;241m*\u001b[39m \u001b[38;5;28mself\u001b[39m\u001b[38;5;241m.\u001b[39mweights\n\u001b[1;32m---> 61\u001b[0m \u001b[38;5;28;43mself\u001b[39;49m\u001b[38;5;241;43m.\u001b[39;49m\u001b[43mweights\u001b[49m\u001b[43m \u001b[49m\u001b[38;5;241;43m-\u001b[39;49m\u001b[38;5;241;43m=\u001b[39;49m\u001b[43m \u001b[49m\u001b[43mlr\u001b[49m\u001b[43m \u001b[49m\u001b[38;5;241;43m*\u001b[39;49m\u001b[43m \u001b[49m\u001b[43mgrad\u001b[49m\u001b[38;5;241;43m.\u001b[39;49m\u001b[43mT\u001b[49m\n",
      "\u001b[1;31mValueError\u001b[0m: operands could not be broadcast together with shapes (10,784) (784,10) (10,784) "
     ]
    }
   ],
   "source": [
    "logistic_regression = LogisticRegression(x_train, y_train, x_val, y_val, x_test, y_test, \"normal\")\n",
    "logistic_regression.train(epochs=100, lr=0.0005, batch_size=200, L2_regularisation_coeff=0.0001)"
   ]
  }
 ],
 "metadata": {
  "kernelspec": {
   "display_name": "Python 3",
   "language": "python",
   "name": "python3"
  },
  "language_info": {
   "codemirror_mode": {
    "name": "ipython",
    "version": 3
   },
   "file_extension": ".py",
   "mimetype": "text/x-python",
   "name": "python",
   "nbconvert_exporter": "python",
   "pygments_lexer": "ipython3",
   "version": "3.11.2"
  }
 },
 "nbformat": 4,
 "nbformat_minor": 2
}
